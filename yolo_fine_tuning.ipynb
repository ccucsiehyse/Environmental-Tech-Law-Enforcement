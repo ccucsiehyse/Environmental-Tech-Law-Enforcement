{
 "cells": [
  {
   "cell_type": "markdown",
   "id": "edad3d0f-6a62-4106-86d4-b167b1584108",
   "metadata": {},
   "source": [
    "## 功能\n",
    "> 對 yolo 模型進行 fine-tune 的動作"
   ]
  },
  {
   "cell_type": "code",
   "execution_count": null,
   "id": "ce2c492f-be84-4252-ba7f-4bad61c08430",
   "metadata": {},
   "outputs": [],
   "source": [
    "# 檢查虛擬環境\n",
    "import sys\n",
    "import numpy\n",
    "import tensorflow as tf\n",
    "import torch\n",
    "import os"
   ]
  },
  {
   "cell_type": "code",
   "execution_count": null,
   "id": "ad3d37c0-eb29-4587-bb37-2c6ac02c4746",
   "metadata": {},
   "outputs": [],
   "source": [
    "from ultralytics import YOLO\n",
    "\n",
    "# 讓系統只看見這一張 GPU（它變成 PyTorch/TensorFlow 的 index=0）\n",
    "os.environ[\"CUDA_VISIBLE_DEVICES\"] = \"1\"\n",
    "\n",
    "# TensorFlow 限制 GPU 記憶體使用\n",
    "max_memory = 24564\n",
    "frac = 0.6\n",
    "gpus = tf.config.list_physical_devices('GPU')\n",
    "if gpus:\n",
    "    try:\n",
    "        tf.config.set_logical_device_configuration(gpus[0],\n",
    "            [tf.config.LogicalDeviceConfiguration(memory_limit=max_memory*frac)]) # MB\n",
    "        print(f\"[TF] 設定 TensorFlow 使用最多 {max_memory*frac}MB GPU 記憶體\")\n",
    "    except RuntimeError as e:\n",
    "        print(\"[TF] 設定失敗:\", e)\n",
    "\n",
    "# PyTorch 限制 GPU 記憶體使用比例\n",
    "if torch.cuda.is_available():\n",
    "    device = torch.device(\"cuda:0\")  # 因為 CUDA_VISIBLE_DEVICES 已讓這張卡成為 0\n",
    "    torch.cuda.set_per_process_memory_fraction(frac, device=device)\n",
    "\n",
    "device = \"cuda\"# if torch.cuda.is_available() else \"cpu\"\n",
    "print(\"CUDA 是否可用:\", torch.cuda.is_available(), \", device: \", device)\n",
    "print(\"CUDA 數量:\", torch.cuda.device_count())"
   ]
  },
  {
   "cell_type": "code",
   "execution_count": null,
   "id": "15b4a133-c7b0-4970-8179-8442335bb92e",
   "metadata": {},
   "outputs": [],
   "source": [
    "# 設置初始模型\n",
    "model = YOLO(\"yolo11s.pt\").to(device) \n",
    "\n",
    "# 開始 Fine-Tuning\n",
    "model.train(data=\"Combined_Bottle_Waste(recheck)_stage2/data.yaml\", \n",
    "            epochs=200,\n",
    "            imgsz=640,\n",
    "            device=device,\n",
    "            mosaic = 0.5, # 降低馬賽克增強概率（預設 1.0），避免小目標被過度縮放後模糊。\n",
    "            mixup = 0.1,\n",
    "            multi_scale = True, # 啟用多尺度訓練（如 640~1280 隨機縮放），增強模型對尺寸變化的適應性。\n",
    "            close_mosaic = 0, # 延後關閉馬賽克增強（預設 10），延長多尺度學習時間\n",
    "            patience = 200\n",
    "            ,resume = True \n",
    "           )"
   ]
  }
 ],
 "metadata": {
  "kernelspec": {
   "display_name": "Python (trash)",
   "language": "python",
   "name": "trash"
  },
  "language_info": {
   "codemirror_mode": {
    "name": "ipython",
    "version": 3
   },
   "file_extension": ".py",
   "mimetype": "text/x-python",
   "name": "python",
   "nbconvert_exporter": "python",
   "pygments_lexer": "ipython3",
   "version": "3.10.18"
  }
 },
 "nbformat": 4,
 "nbformat_minor": 5
}
